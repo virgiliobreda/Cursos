{
  "nbformat": 4,
  "nbformat_minor": 0,
  "metadata": {
    "colab": {
      "provenance": [],
      "authorship_tag": "ABX9TyP0K2lUJ/LQjxbUluiSOJws",
      "include_colab_link": true
    },
    "kernelspec": {
      "name": "python3",
      "display_name": "Python 3"
    },
    "language_info": {
      "name": "python"
    }
  },
  "cells": [
    {
      "cell_type": "markdown",
      "metadata": {
        "id": "view-in-github",
        "colab_type": "text"
      },
      "source": [
        "<a href=\"https://colab.research.google.com/github/virgiliobreda/Cursos/blob/main/apic.ipynb\" target=\"_parent\"><img src=\"https://colab.research.google.com/assets/colab-badge.svg\" alt=\"Open In Colab\"/></a>"
      ]
    },
    {
      "cell_type": "code",
      "execution_count": 20,
      "metadata": {
        "id": "lPZAxvipRfmu"
      },
      "outputs": [],
      "source": [
        "import pandas as pd\n",
        "from flask_ngrok import run_with_ngrok\n",
        "from flask import (\n",
        "    request,\n",
        "    jsonify,\n",
        "    Flask\n",
        ")\n",
        "import random as rk"
      ]
    },
    {
      "cell_type": "code",
      "source": [
        "app = Flask(__name__)\n",
        "run_with_ngrok(app)"
      ],
      "metadata": {
        "id": "SbmYFQfPRixS"
      },
      "execution_count": 21,
      "outputs": []
    },
    {
      "cell_type": "code",
      "source": [
        "d = {\n",
        "    \"number\": 1,\n",
        "    \"name\": \"Mahesh\",\n",
        "    \"age\": 25,\n",
        "    \"city\": \"Bangalore\",\n",
        "    \"country\": \"India\"\n",
        "}, {\n",
        "    \"number\": 2,\n",
        "    \"name\": \"Alex\",\n",
        "    \"age\": 26,\n",
        "    \"city\": \"London\",\n",
        "    \"country\": \"UK\"\n",
        "}, {\n",
        "    \"number\": 3,\n",
        "    \"name\": \"David\",\n",
        "    \"age\": 27,\n",
        "    \"city\": \"San Francisco\",\n",
        "    \"country\": \"USA\"\n",
        "}, {\n",
        "    \"number\": 4,\n",
        "    \"name\": \"John\",\n",
        "    \"age\": 28,\n",
        "    \"city\": \"Toronto\",\n",
        "    \"country\": \"Canada\"\n",
        "}, {\n",
        "    \"number\": 5,\n",
        "    \"name\": \"Chris\",\n",
        "    \"age\": 29,\n",
        "    \"city\": \"Paris\",\n",
        "    \"country\": \"France\"\n",
        "}"
      ],
      "metadata": {
        "id": "IdZNdjmNRi86"
      },
      "execution_count": 22,
      "outputs": []
    },
    {
      "cell_type": "code",
      "source": [
        "@app.route(\"/\")\n",
        "\n",
        "def home():\n",
        "  return \"<marquee><h3> TO CHECK IN PUT ADD '/input' TO THE URL AND TO CHECK OUT PUT ADD '/output' TO THE URL.</h3></marquee>\""
      ],
      "metadata": {
        "id": "6UfjxUi5RrmA"
      },
      "execution_count": 23,
      "outputs": []
    },
    {
      "cell_type": "code",
      "source": [
        "@app.route(\"/input\")\n",
        "\n",
        "def input():\n",
        "  return jsonify(d)"
      ],
      "metadata": {
        "id": "mSetshX9S9ww"
      },
      "execution_count": 24,
      "outputs": []
    },
    {
      "cell_type": "code",
      "source": [
        "@app.route('/output', methods=['GET','POST'])\n",
        "\n",
        "def predJson():\n",
        " pred = r.choice([\"positive\",\"negative\"])\n",
        " nd = d\n",
        " nd[\"prediction\"]=pred\n",
        " return jsonify(nd)\n",
        "\n",
        "app.run()"
      ],
      "metadata": {
        "colab": {
          "base_uri": "https://localhost:8080/"
        },
        "id": "twoVYp_FTDoB",
        "outputId": "ba68f5bd-a888-4ecb-a935-19e27d7fde98"
      },
      "execution_count": 25,
      "outputs": [
        {
          "output_type": "stream",
          "name": "stdout",
          "text": [
            " * Serving Flask app '__main__'\n",
            " * Debug mode: off\n"
          ]
        },
        {
          "output_type": "stream",
          "name": "stderr",
          "text": [
            "INFO:werkzeug:\u001b[31m\u001b[1mWARNING: This is a development server. Do not use it in a production deployment. Use a production WSGI server instead.\u001b[0m\n",
            " * Running on http://127.0.0.1:5000\n",
            "INFO:werkzeug:\u001b[33mPress CTRL+C to quit\u001b[0m\n"
          ]
        },
        {
          "output_type": "stream",
          "name": "stdout",
          "text": [
            " * Running on http://15ab-35-233-245-61.ngrok.io\n",
            " * Traffic stats available on http://127.0.0.1:4040\n"
          ]
        },
        {
          "output_type": "stream",
          "name": "stderr",
          "text": [
            "INFO:werkzeug:127.0.0.1 - - [14/Sep/2023 15:27:54] \"GET / HTTP/1.1\" 200 -\n",
            "INFO:werkzeug:127.0.0.1 - - [14/Sep/2023 15:27:55] \"\u001b[33mGET /favicon.ico HTTP/1.1\u001b[0m\" 404 -\n",
            "INFO:werkzeug:127.0.0.1 - - [14/Sep/2023 15:28:00] \"GET /input HTTP/1.1\" 200 -\n",
            "INFO:werkzeug:127.0.0.1 - - [14/Sep/2023 15:28:01] \"\u001b[33mGET /favicon.ico HTTP/1.1\u001b[0m\" 404 -\n"
          ]
        }
      ]
    }
  ]
}